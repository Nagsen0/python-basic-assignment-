{
 "cells": [
  {
   "cell_type": "code",
   "execution_count": 11,
   "id": "e8c00da0-d489-4f3d-8951-34e3455d2f98",
   "metadata": {},
   "outputs": [],
   "source": [
    "# Python Basics Variables"
   ]
  },
  {
   "cell_type": "code",
   "execution_count": 7,
   "id": "084861e7-21c2-49ba-a416-cf7dce2b8386",
   "metadata": {},
   "outputs": [
    {
     "name": "stdout",
     "output_type": "stream",
     "text": [
      "After swapping:\n",
      "x = 30\n",
      "y = 20\n"
     ]
    }
   ],
   "source": [
    "# Taking the variables\n",
    "x = 20\n",
    "y = 30\n",
    "\n",
    "# without using the temporary variables\n",
    "\n",
    "x, y = y, x\n",
    "\n",
    "print(\"After swapping:\")\n",
    "print(\"x =\", x)\n",
    "print(\"y =\", y)"
   ]
  },
  {
   "cell_type": "code",
   "execution_count": 10,
   "id": "ba208396-3652-4bb7-bc29-8aafc2239773",
   "metadata": {},
   "outputs": [
    {
     "name": "stdin",
     "output_type": "stream",
     "text": [
      "Enter the length of the rectangle =  5\n",
      "Enter the width of the rectangle =  4\n"
     ]
    },
    {
     "name": "stdout",
     "output_type": "stream",
     "text": [
      "The area of the rectangle :  20.0\n"
     ]
    }
   ],
   "source": [
    "# Taking an user inputs \n",
    "\n",
    "length = float(input(\"Enter the length of the rectangle = \"))\n",
    "\n",
    "width = float(input(\"Enter the width of the rectangle = \"))\n",
    "\n",
    "# Calculating the area of the rectangle\n",
    "\n",
    "Area = length * width \n",
    "\n",
    "# Displaying the calculated area \n",
    "\n",
    "print(\"The area of the rectangle : \", Area)"
   ]
  },
  {
   "cell_type": "code",
   "execution_count": 5,
   "id": "c08f5bd3-1544-45f7-82fa-18aa6c141eb9",
   "metadata": {},
   "outputs": [
    {
     "name": "stdin",
     "output_type": "stream",
     "text": [
      "Enter the temperature in celsius =  100\n"
     ]
    },
    {
     "name": "stdout",
     "output_type": "stream",
     "text": [
      "100.0 degree celsius temperature is equal to 212.0 degree fahrenheit\n"
     ]
    }
   ],
   "source": [
    "# Taking the temperature input in celsius\n",
    "\n",
    "Celsius = float(input(\"Enter the temperature in celsius = \"))\n",
    "\n",
    "# Converting the temperature into fahrenheit \n",
    "\n",
    "Fahrenheit = (Celsius * 9/5) + 32\n",
    "\n",
    "# Displaying the result\n",
    "\n",
    "print(f\"{Celsius} degree celsius temperature is equal to {Fahrenheit} degree fahrenheit\")"
   ]
  },
  {
   "cell_type": "code",
   "execution_count": 17,
   "id": "1d636968-1d2a-440a-95b7-0f2d1091eea3",
   "metadata": {},
   "outputs": [],
   "source": [
    "# String Based Questions"
   ]
  },
  {
   "cell_type": "code",
   "execution_count": 20,
   "id": "0293a2f3-2d92-4119-8b5d-17309b554635",
   "metadata": {},
   "outputs": [
    {
     "name": "stdin",
     "output_type": "stream",
     "text": [
      " nagsen\n"
     ]
    },
    {
     "name": "stdout",
     "output_type": "stream",
     "text": [
      "6\n"
     ]
    }
   ],
   "source": [
    "# Taking string as the input\n",
    " \n",
    "s = str(input())\n",
    "\n",
    "# length of the string\n",
    "\n",
    "l = len(s)\n",
    "\n",
    "# Displaying the length of the string as result\n",
    "\n",
    "print(l)\n"
   ]
  },
  {
   "cell_type": "code",
   "execution_count": 36,
   "id": "67d0b4a7-8207-480f-95d6-bca4e36b6c6e",
   "metadata": {},
   "outputs": [
    {
     "name": "stdin",
     "output_type": "stream",
     "text": [
      "Enter a sentence:  my name is nagsen\n"
     ]
    },
    {
     "name": "stdout",
     "output_type": "stream",
     "text": [
      "Number of 'a':  2\n",
      "Number of 'e':  2\n",
      "Number of 'i':  1\n",
      "Number of 'o':  0\n",
      "Number of 'u':  0\n",
      "Total number of vowels :  5\n"
     ]
    }
   ],
   "source": [
    "# Taking input sentence from user\n",
    "\n",
    "sentence = input(\"Enter a sentence: \" )\n",
    "\n",
    "# converting sentence into lowercase for case insensitive \n",
    "\n",
    "sentence = sentence.lower()\n",
    "\n",
    "# variable for count of each vowel\n",
    "\n",
    "count_a = 0\n",
    "count_e = 0\n",
    "count_i = 0\n",
    "count_o = 0\n",
    "count_u = 0\n",
    "\n",
    "# Iterate through each character in the sentence\n",
    "for char in sentence:\n",
    "    \n",
    "    if char == 'a':\n",
    "        count_a += 1\n",
    "    elif char == 'e':\n",
    "        count_e += 1\n",
    "    elif char == 'i':\n",
    "        count_i += 1\n",
    "    elif char == 'o':\n",
    "        count_o += 1\n",
    "    elif char == 'u':\n",
    "        count_o += 1\n",
    "        \n",
    "# calculate the total number of vowels\n",
    "\n",
    "total_vowels = count_a + count_e + count_i + count_o + count_u\n",
    "\n",
    "# displaying the result\n",
    "\n",
    "print(\"Number of 'a': \",count_a)\n",
    "print(\"Number of 'e': \",count_e)\n",
    "print(\"Number of 'i': \",count_i)\n",
    "print(\"Number of 'o': \",count_o)\n",
    "print(\"Number of 'u': \",count_u)\n",
    "print(\"Total number of vowels : \",total_vowels)"
   ]
  },
  {
   "cell_type": "code",
   "execution_count": 37,
   "id": "f51a4863-7db4-4955-9215-7215301d6afe",
   "metadata": {},
   "outputs": [
    {
     "name": "stdout",
     "output_type": "stream",
     "text": [
      "nesgan\n"
     ]
    }
   ],
   "source": [
    "# given string\n",
    "\n",
    "string = 'nagsen'\n",
    "\n",
    "# reversing the order of characters using string slicing\n",
    "\n",
    "reversed_string = string[::-1]\n",
    "\n",
    "# displaying result\n",
    "\n",
    "print(reversed_string)\n",
    "\n"
   ]
  },
  {
   "cell_type": "code",
   "execution_count": 53,
   "id": "bbab5ff8-97f2-433a-ad1b-e3011d00a172",
   "metadata": {},
   "outputs": [
    {
     "name": "stdin",
     "output_type": "stream",
     "text": [
      "Enter a string:  go deliver a dare vile dog\n"
     ]
    },
    {
     "name": "stdout",
     "output_type": "stream",
     "text": [
      "The string is palindrome.\n"
     ]
    }
   ],
   "source": [
    "def is_palindrome(s):\n",
    "    \n",
    "    # Convert the string to lowercase and remove the spaces\n",
    "    s = s.lower().replace(\" \",\"\")\n",
    "    \n",
    "    #compare the string with its reverse\n",
    "    \n",
    "    return s == s[::-1]\n",
    "\n",
    "# Input string from the user\n",
    "    \n",
    "input_string = input(\"Enter a string: \")\n",
    "    \n",
    "if is_palindrome(input_string):\n",
    "     print(\"The string is palindrome.\")\n",
    "else:\n",
    "     print(\"The string is not palindrome.\")"
   ]
  },
  {
   "cell_type": "code",
   "execution_count": 56,
   "id": "88714214-3637-4f18-b102-7d7be37e65de",
   "metadata": {},
   "outputs": [
    {
     "name": "stdin",
     "output_type": "stream",
     "text": [
      " My Name Is Nagsen\n"
     ]
    },
    {
     "name": "stdout",
     "output_type": "stream",
     "text": [
      "Modified string without spaces:  mynameisnagsen\n"
     ]
    }
   ],
   "source": [
    "# Taking string as user input\n",
    "\n",
    "string = str(input())\n",
    "\n",
    "# converting string to lowercase and removing the spaces\n",
    "\n",
    "modified_string = string.lower().replace(\" \",\"\")\n",
    "\n",
    "# displaying result as modified string without spaces\n",
    "\n",
    "print(\"Modified string without spaces: \",modified_string)\n",
    "\n"
   ]
  },
  {
   "cell_type": "code",
   "execution_count": null,
   "id": "2107274a-1e20-4c61-83a9-6e6f9aeb2cde",
   "metadata": {},
   "outputs": [],
   "source": []
  }
 ],
 "metadata": {
  "kernelspec": {
   "display_name": "Python 3 (ipykernel)",
   "language": "python",
   "name": "python3"
  },
  "language_info": {
   "codemirror_mode": {
    "name": "ipython",
    "version": 3
   },
   "file_extension": ".py",
   "mimetype": "text/x-python",
   "name": "python",
   "nbconvert_exporter": "python",
   "pygments_lexer": "ipython3",
   "version": "3.10.8"
  },
  "toc-autonumbering": true,
  "toc-showcode": false
 },
 "nbformat": 4,
 "nbformat_minor": 5
}
